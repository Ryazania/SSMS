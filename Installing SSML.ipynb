{
 "cells": [
  {
   "cell_type": "markdown",
   "id": "26b86fac-a660-4198-a5fd-ba556917d308",
   "metadata": {},
   "source": [
    "# SQL Basics Tutorial For Beginners | Installing SQL Server Management Studio\n",
    "### and some troubleshooting that may arise"
   ]
  },
  {
   "cell_type": "markdown",
   "id": "4b125e90-5acf-4bb1-9dc3-eee9cbef5567",
   "metadata": {},
   "source": [
    "#### SQL Server Management Studio:\n",
    "\n",
    "[SSMS](uhttps://learn.microsoft.com/en-us/ssms/install/install?view=sql-server-ver15)    \n",
    "https://learn.microsoft.com/en-us/ssms/install/install?view=sql-server-ver15\n",
    "\n"
   ]
  },
  {
   "cell_type": "markdown",
   "id": "ff889346-8b15-4b0e-9d70-7926cb004ec3",
   "metadata": {},
   "source": [
    "Determine which version of SQL Server Management Studio to install\n",
    "Decide which version of SSMS to install. The most common options are:\n",
    "\n",
    "- The latest release at this point of writing is of SQL Server Management Studio 21 that is hosted on Microsoft servers. To install this version, select the following link. The installer downloads a small bootstrapper to your Downloads folder. Otherwise as long its for this link use whatever version most recent for you.\n",
    "\n",
    "- If you already have SQL Server Management Studio 21 installed, you can install another version alongside it.\n",
    "\n",
    "- You can download a bootstrapper or installer for a specific version from the Release history page and use it to install another version of SSMS."
   ]
  },
  {
   "cell_type": "markdown",
   "id": "e5370a0f-47f5-4bbe-bbc3-54114ab4be11",
   "metadata": {},
   "source": [
    "#### SQL Server:\n",
    "\n",
    "[SQL Server](https://www.microsoft.com/en-us/sql-server/sql-server-downloads)  https://www.microsoft.com/en-us/sql-server/sql-server-downloads\n",
    "\n",
    "At this point of writing they are still using SQL Server 2022 Express\n",
    "Get this free edition, ideal for development and production for desktop, web, and small server applications."
   ]
  },
  {
   "cell_type": "markdown",
   "id": "a76d8bd7-cf33-4f8e-9f32-e3e66e54f3a5",
   "metadata": {},
   "source": [
    "#### Github Scripts:\n",
    "(https://github.com/Ryazania/SSMS) https://github.com/Ryazania/SSMS"
   ]
  },
  {
   "attachments": {},
   "cell_type": "markdown",
   "id": "2b3d1514-df54-47b9-86fe-1cf8260e0c3d",
   "metadata": {},
   "source": [
    "## TROUBLESHOOT\n",
    "\n",
    "When I installed both of them, SSSMS somehow would not want me to connect to my SQL server. This is what I know to troubleshoot this \n",
    "\n",
    "### 1. Run SQL Server Configuration Manager\n",
    "   search on your window seach bar. Select SQL Server Service. I noticed that the SQL Server Agent wasnt started, noticed the red color.\n",
    "\n",
    "  <div> <img src=\"assets/1..png\" alt=\"Drawing\" style=\"width: 400px;\"/></div> \n",
    "  \n",
    "    Click on SQL Service Agent, and click Start\n",
    "<div> <img src=\"assets/2.jpg\" alt=\"Drawing\" style=\"width: 400px;\"/></div> d v>\n",
    "</div>"
   ]
  },
  {
   "cell_type": "markdown",
   "id": "eee4104c-fdf1-433d-b89f-c3d9476e19c8",
   "metadata": {},
   "source": [
    "It should marked as \"Running\" now\n",
    "<div> <img src=\"assets/3.JPG\" alt=\"Drawing\" style=\"width: 400px;\"/></div> "
   ]
  },
  {
   "cell_type": "markdown",
   "id": "bf88b97d-22e9-4974-af8f-d262e7a782c8",
   "metadata": {},
   "source": [
    "### 2. Error message during connection with SSMS\n",
    "--------------------\r\n"
   ]
  },
  {
   "cell_type": "markdown",
   "id": "56c1e383-c65d-47c2-8aa9-576530d1fc16",
   "metadata": {},
   "source": [
    "#####  Basically now this error popped out \n",
    " Connect to Server\n",
    "------------------------------\n",
    "\n",
    "Cannot connect to LEGIONBABY.\n",
    "\n",
    "------------------------------\n",
    "ADDITIONAL INFORMATION:\n",
    "\n",
    "A connection was successfully established with the server, but then an error occurred during the login process. (provider: SSL Provider, error: 0 - The certificate chain was issued by an authority that is not trusted.) (Microsoft SQL Server, Error: -2146893019)\n",
    "\n",
    "For help, click: https://docs.microsoft.com/sql/relational-databases/errors-events/mssqlserver--2146893019-database-engine-error\n",
    "\n",
    "------------------------------\n",
    "\n",
    "The certificate chain was issued by an authority that is not trusted\n",
    "\n",
    "------------------------------\n"
   ]
  },
  {
   "cell_type": "markdown",
   "id": "95794c4f-db6d-478f-ab45-7586dde68f98",
   "metadata": {},
   "source": [
    "So what I did was ( and it took me a long time) but basically you just have to mention that you trusted the certificate\n",
    "<div> <img src=\"assets/4.png\" alt=\"Drawing\" style=\"width: 400px;\"/></div> "
   ]
  },
  {
   "cell_type": "markdown",
   "id": "52b5fd30-6bc5-4748-8792-5c165129db6c",
   "metadata": {},
   "source": [
    "And now you are ready to create your database. Hope this helps, for some reason, for my Windows laptop it wasnt straight forward installations on both SQL server and SQL Server Management Studio. Hope this helps some people!\n",
    "<div> <img src=\"assets/5.png\" alt=\"Drawing\" style=\"width: 500px;\"/></div> "
   ]
  },
  {
   "cell_type": "markdown",
   "id": "11fbb25d-e2c4-4be2-83da-005621d07c6c",
   "metadata": {},
   "source": [
    "### Author\n",
    "#### Ryazania "
   ]
  },
  {
   "cell_type": "code",
   "execution_count": null,
   "id": "9f29457f-fea9-453b-9555-bce52d5df038",
   "metadata": {},
   "outputs": [],
   "source": []
  }
 ],
 "metadata": {
  "kernelspec": {
   "display_name": "Python 3 (ipykernel)",
   "language": "python",
   "name": "python3"
  },
  "language_info": {
   "codemirror_mode": {
    "name": "ipython",
    "version": 3
   },
   "file_extension": ".py",
   "mimetype": "text/x-python",
   "name": "python",
   "nbconvert_exporter": "python",
   "pygments_lexer": "ipython3",
   "version": "3.11.7"
  }
 },
 "nbformat": 4,
 "nbformat_minor": 5
}
